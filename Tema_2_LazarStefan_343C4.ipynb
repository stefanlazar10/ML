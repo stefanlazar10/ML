{
  "nbformat": 4,
  "nbformat_minor": 0,
  "metadata": {
    "colab": {
      "name": "Copy of Tema 2 - Skel.ipynb",
      "provenance": [],
      "collapsed_sections": []
    },
    "kernelspec": {
      "display_name": "Python 3",
      "name": "python3"
    },
    "language_info": {
      "name": "python"
    }
  },
  "cells": [
    {
      "cell_type": "markdown",
      "metadata": {
        "id": "zLbq2kmY8Pg7"
      },
      "source": [
        "# Tema 2 - Taxi Driver\n",
        "\n",
        "### Autori: \n",
        "* George Muraru\n"
      ]
    },
    {
      "cell_type": "markdown",
      "metadata": {
        "id": "MUqcqknZ8ZzX"
      },
      "source": [
        "## 2. Scopul temei"
      ]
    },
    {
      "cell_type": "markdown",
      "metadata": {
        "id": "SXJjFpkZ8dM0"
      },
      "source": [
        "Tema are ca scop folosirea unor tehnici simple de reinforcement learning pentru a realiza un bot care \"știe\" să realizeze o sarcină simplă: să transporte o persoană dintr-o locație în alta.\n",
        "\n",
        "Mai multe detalii despre joc se pot găsi [aici](https://github.com/openai/gym/blob/master/gym/envs/toy_text/taxi.py) și [aici](https://gym.openai.com/envs/Taxi-v3/)."
      ]
    },
    {
      "cell_type": "markdown",
      "metadata": {
        "id": "F8nGcW70-CO6"
      },
      "source": [
        "## 3. Workspace Setup"
      ]
    },
    {
      "cell_type": "markdown",
      "metadata": {
        "id": "KoBV0vEQ0vhu"
      },
      "source": [
        "Pentru environmentul de joc, vom folosi \"Gym\" - un tool oferit de OpenAI pentru Reinforcement Learning.\n",
        "\n",
        "Mai multe detalii puteți găsi [aici](https://gym.openai.com/)."
      ]
    },
    {
      "cell_type": "markdown",
      "metadata": {
        "id": "h4HsagGt-zvI"
      },
      "source": [
        "### Dependețe"
      ]
    },
    {
      "cell_type": "code",
      "metadata": {
        "id": "ILG0Xlj3-1yh",
        "colab": {
          "base_uri": "https://localhost:8080/"
        },
        "outputId": "668b3584-eadc-4b8c-f32f-1edd08c87dee"
      },
      "source": [
        "!pip install -U gym"
      ],
      "execution_count": null,
      "outputs": [
        {
          "output_type": "stream",
          "text": [
            "Collecting gym\n",
            "\u001b[?25l  Downloading https://files.pythonhosted.org/packages/26/f2/e7ee20bf02b2d02263becba1c5ec4203fef7cfbd57759e040e51307173f4/gym-0.18.0.tar.gz (1.6MB)\n",
            "\r\u001b[K     |▏                               | 10kB 15.7MB/s eta 0:00:01\r\u001b[K     |▍                               | 20kB 20.7MB/s eta 0:00:01\r\u001b[K     |▋                               | 30kB 10.4MB/s eta 0:00:01\r\u001b[K     |▉                               | 40kB 9.6MB/s eta 0:00:01\r\u001b[K     |█                               | 51kB 7.2MB/s eta 0:00:01\r\u001b[K     |█▎                              | 61kB 7.6MB/s eta 0:00:01\r\u001b[K     |█▌                              | 71kB 7.4MB/s eta 0:00:01\r\u001b[K     |█▋                              | 81kB 7.9MB/s eta 0:00:01\r\u001b[K     |█▉                              | 92kB 7.6MB/s eta 0:00:01\r\u001b[K     |██                              | 102kB 7.6MB/s eta 0:00:01\r\u001b[K     |██▎                             | 112kB 7.6MB/s eta 0:00:01\r\u001b[K     |██▌                             | 122kB 7.6MB/s eta 0:00:01\r\u001b[K     |██▊                             | 133kB 7.6MB/s eta 0:00:01\r\u001b[K     |███                             | 143kB 7.6MB/s eta 0:00:01\r\u001b[K     |███▏                            | 153kB 7.6MB/s eta 0:00:01\r\u001b[K     |███▎                            | 163kB 7.6MB/s eta 0:00:01\r\u001b[K     |███▌                            | 174kB 7.6MB/s eta 0:00:01\r\u001b[K     |███▊                            | 184kB 7.6MB/s eta 0:00:01\r\u001b[K     |████                            | 194kB 7.6MB/s eta 0:00:01\r\u001b[K     |████▏                           | 204kB 7.6MB/s eta 0:00:01\r\u001b[K     |████▍                           | 215kB 7.6MB/s eta 0:00:01\r\u001b[K     |████▋                           | 225kB 7.6MB/s eta 0:00:01\r\u001b[K     |████▉                           | 235kB 7.6MB/s eta 0:00:01\r\u001b[K     |█████                           | 245kB 7.6MB/s eta 0:00:01\r\u001b[K     |█████▏                          | 256kB 7.6MB/s eta 0:00:01\r\u001b[K     |█████▍                          | 266kB 7.6MB/s eta 0:00:01\r\u001b[K     |█████▋                          | 276kB 7.6MB/s eta 0:00:01\r\u001b[K     |█████▉                          | 286kB 7.6MB/s eta 0:00:01\r\u001b[K     |██████                          | 296kB 7.6MB/s eta 0:00:01\r\u001b[K     |██████▎                         | 307kB 7.6MB/s eta 0:00:01\r\u001b[K     |██████▌                         | 317kB 7.6MB/s eta 0:00:01\r\u001b[K     |██████▋                         | 327kB 7.6MB/s eta 0:00:01\r\u001b[K     |██████▉                         | 337kB 7.6MB/s eta 0:00:01\r\u001b[K     |███████                         | 348kB 7.6MB/s eta 0:00:01\r\u001b[K     |███████▎                        | 358kB 7.6MB/s eta 0:00:01\r\u001b[K     |███████▌                        | 368kB 7.6MB/s eta 0:00:01\r\u001b[K     |███████▊                        | 378kB 7.6MB/s eta 0:00:01\r\u001b[K     |████████                        | 389kB 7.6MB/s eta 0:00:01\r\u001b[K     |████████▏                       | 399kB 7.6MB/s eta 0:00:01\r\u001b[K     |████████▎                       | 409kB 7.6MB/s eta 0:00:01\r\u001b[K     |████████▌                       | 419kB 7.6MB/s eta 0:00:01\r\u001b[K     |████████▊                       | 430kB 7.6MB/s eta 0:00:01\r\u001b[K     |█████████                       | 440kB 7.6MB/s eta 0:00:01\r\u001b[K     |█████████▏                      | 450kB 7.6MB/s eta 0:00:01\r\u001b[K     |█████████▍                      | 460kB 7.6MB/s eta 0:00:01\r\u001b[K     |█████████▋                      | 471kB 7.6MB/s eta 0:00:01\r\u001b[K     |█████████▉                      | 481kB 7.6MB/s eta 0:00:01\r\u001b[K     |██████████                      | 491kB 7.6MB/s eta 0:00:01\r\u001b[K     |██████████▏                     | 501kB 7.6MB/s eta 0:00:01\r\u001b[K     |██████████▍                     | 512kB 7.6MB/s eta 0:00:01\r\u001b[K     |██████████▋                     | 522kB 7.6MB/s eta 0:00:01\r\u001b[K     |██████████▉                     | 532kB 7.6MB/s eta 0:00:01\r\u001b[K     |███████████                     | 542kB 7.6MB/s eta 0:00:01\r\u001b[K     |███████████▎                    | 552kB 7.6MB/s eta 0:00:01\r\u001b[K     |███████████▌                    | 563kB 7.6MB/s eta 0:00:01\r\u001b[K     |███████████▋                    | 573kB 7.6MB/s eta 0:00:01\r\u001b[K     |███████████▉                    | 583kB 7.6MB/s eta 0:00:01\r\u001b[K     |████████████                    | 593kB 7.6MB/s eta 0:00:01\r\u001b[K     |████████████▎                   | 604kB 7.6MB/s eta 0:00:01\r\u001b[K     |████████████▌                   | 614kB 7.6MB/s eta 0:00:01\r\u001b[K     |████████████▊                   | 624kB 7.6MB/s eta 0:00:01\r\u001b[K     |█████████████                   | 634kB 7.6MB/s eta 0:00:01\r\u001b[K     |█████████████▏                  | 645kB 7.6MB/s eta 0:00:01\r\u001b[K     |█████████████▎                  | 655kB 7.6MB/s eta 0:00:01\r\u001b[K     |█████████████▌                  | 665kB 7.6MB/s eta 0:00:01\r\u001b[K     |█████████████▊                  | 675kB 7.6MB/s eta 0:00:01\r\u001b[K     |██████████████                  | 686kB 7.6MB/s eta 0:00:01\r\u001b[K     |██████████████▏                 | 696kB 7.6MB/s eta 0:00:01\r\u001b[K     |██████████████▍                 | 706kB 7.6MB/s eta 0:00:01\r\u001b[K     |██████████████▋                 | 716kB 7.6MB/s eta 0:00:01\r\u001b[K     |██████████████▉                 | 727kB 7.6MB/s eta 0:00:01\r\u001b[K     |███████████████                 | 737kB 7.6MB/s eta 0:00:01\r\u001b[K     |███████████████▏                | 747kB 7.6MB/s eta 0:00:01\r\u001b[K     |███████████████▍                | 757kB 7.6MB/s eta 0:00:01\r\u001b[K     |███████████████▋                | 768kB 7.6MB/s eta 0:00:01\r\u001b[K     |███████████████▉                | 778kB 7.6MB/s eta 0:00:01\r\u001b[K     |████████████████                | 788kB 7.6MB/s eta 0:00:01\r\u001b[K     |████████████████▎               | 798kB 7.6MB/s eta 0:00:01\r\u001b[K     |████████████████▌               | 808kB 7.6MB/s eta 0:00:01\r\u001b[K     |████████████████▋               | 819kB 7.6MB/s eta 0:00:01\r\u001b[K     |████████████████▉               | 829kB 7.6MB/s eta 0:00:01\r\u001b[K     |█████████████████               | 839kB 7.6MB/s eta 0:00:01\r\u001b[K     |█████████████████▎              | 849kB 7.6MB/s eta 0:00:01\r\u001b[K     |█████████████████▌              | 860kB 7.6MB/s eta 0:00:01\r\u001b[K     |█████████████████▊              | 870kB 7.6MB/s eta 0:00:01\r\u001b[K     |██████████████████              | 880kB 7.6MB/s eta 0:00:01\r\u001b[K     |██████████████████▏             | 890kB 7.6MB/s eta 0:00:01\r\u001b[K     |██████████████████▎             | 901kB 7.6MB/s eta 0:00:01\r\u001b[K     |██████████████████▌             | 911kB 7.6MB/s eta 0:00:01\r\u001b[K     |██████████████████▊             | 921kB 7.6MB/s eta 0:00:01\r\u001b[K     |███████████████████             | 931kB 7.6MB/s eta 0:00:01\r\u001b[K     |███████████████████▏            | 942kB 7.6MB/s eta 0:00:01\r\u001b[K     |███████████████████▍            | 952kB 7.6MB/s eta 0:00:01\r\u001b[K     |███████████████████▋            | 962kB 7.6MB/s eta 0:00:01\r\u001b[K     |███████████████████▉            | 972kB 7.6MB/s eta 0:00:01\r\u001b[K     |████████████████████            | 983kB 7.6MB/s eta 0:00:01\r\u001b[K     |████████████████████▏           | 993kB 7.6MB/s eta 0:00:01\r\u001b[K     |████████████████████▍           | 1.0MB 7.6MB/s eta 0:00:01\r\u001b[K     |████████████████████▋           | 1.0MB 7.6MB/s eta 0:00:01\r\u001b[K     |████████████████████▉           | 1.0MB 7.6MB/s eta 0:00:01\r\u001b[K     |█████████████████████           | 1.0MB 7.6MB/s eta 0:00:01\r\u001b[K     |█████████████████████▎          | 1.0MB 7.6MB/s eta 0:00:01\r\u001b[K     |█████████████████████▌          | 1.1MB 7.6MB/s eta 0:00:01\r\u001b[K     |█████████████████████▋          | 1.1MB 7.6MB/s eta 0:00:01\r\u001b[K     |█████████████████████▉          | 1.1MB 7.6MB/s eta 0:00:01\r\u001b[K     |██████████████████████          | 1.1MB 7.6MB/s eta 0:00:01\r\u001b[K     |██████████████████████▎         | 1.1MB 7.6MB/s eta 0:00:01\r\u001b[K     |██████████████████████▌         | 1.1MB 7.6MB/s eta 0:00:01\r\u001b[K     |██████████████████████▊         | 1.1MB 7.6MB/s eta 0:00:01\r\u001b[K     |███████████████████████         | 1.1MB 7.6MB/s eta 0:00:01\r\u001b[K     |███████████████████████▏        | 1.1MB 7.6MB/s eta 0:00:01\r\u001b[K     |███████████████████████▎        | 1.1MB 7.6MB/s eta 0:00:01\r\u001b[K     |███████████████████████▌        | 1.2MB 7.6MB/s eta 0:00:01\r\u001b[K     |███████████████████████▊        | 1.2MB 7.6MB/s eta 0:00:01\r\u001b[K     |████████████████████████        | 1.2MB 7.6MB/s eta 0:00:01\r\u001b[K     |████████████████████████▏       | 1.2MB 7.6MB/s eta 0:00:01\r\u001b[K     |████████████████████████▍       | 1.2MB 7.6MB/s eta 0:00:01\r\u001b[K     |████████████████████████▋       | 1.2MB 7.6MB/s eta 0:00:01\r\u001b[K     |████████████████████████▉       | 1.2MB 7.6MB/s eta 0:00:01\r\u001b[K     |█████████████████████████       | 1.2MB 7.6MB/s eta 0:00:01\r\u001b[K     |█████████████████████████▏      | 1.2MB 7.6MB/s eta 0:00:01\r\u001b[K     |█████████████████████████▍      | 1.2MB 7.6MB/s eta 0:00:01\r\u001b[K     |█████████████████████████▋      | 1.3MB 7.6MB/s eta 0:00:01\r\u001b[K     |█████████████████████████▉      | 1.3MB 7.6MB/s eta 0:00:01\r\u001b[K     |██████████████████████████      | 1.3MB 7.6MB/s eta 0:00:01\r\u001b[K     |██████████████████████████▎     | 1.3MB 7.6MB/s eta 0:00:01\r\u001b[K     |██████████████████████████▌     | 1.3MB 7.6MB/s eta 0:00:01\r\u001b[K     |██████████████████████████▋     | 1.3MB 7.6MB/s eta 0:00:01\r\u001b[K     |██████████████████████████▉     | 1.3MB 7.6MB/s eta 0:00:01\r\u001b[K     |███████████████████████████     | 1.3MB 7.6MB/s eta 0:00:01\r\u001b[K     |███████████████████████████▎    | 1.3MB 7.6MB/s eta 0:00:01\r\u001b[K     |███████████████████████████▌    | 1.4MB 7.6MB/s eta 0:00:01\r\u001b[K     |███████████████████████████▊    | 1.4MB 7.6MB/s eta 0:00:01\r\u001b[K     |████████████████████████████    | 1.4MB 7.6MB/s eta 0:00:01\r\u001b[K     |████████████████████████████▏   | 1.4MB 7.6MB/s eta 0:00:01\r\u001b[K     |████████████████████████████▎   | 1.4MB 7.6MB/s eta 0:00:01\r\u001b[K     |████████████████████████████▌   | 1.4MB 7.6MB/s eta 0:00:01\r\u001b[K     |████████████████████████████▊   | 1.4MB 7.6MB/s eta 0:00:01\r\u001b[K     |█████████████████████████████   | 1.4MB 7.6MB/s eta 0:00:01\r\u001b[K     |█████████████████████████████▏  | 1.4MB 7.6MB/s eta 0:00:01\r\u001b[K     |█████████████████████████████▍  | 1.4MB 7.6MB/s eta 0:00:01\r\u001b[K     |█████████████████████████████▋  | 1.5MB 7.6MB/s eta 0:00:01\r\u001b[K     |█████████████████████████████▉  | 1.5MB 7.6MB/s eta 0:00:01\r\u001b[K     |██████████████████████████████  | 1.5MB 7.6MB/s eta 0:00:01\r\u001b[K     |██████████████████████████████▏ | 1.5MB 7.6MB/s eta 0:00:01\r\u001b[K     |██████████████████████████████▍ | 1.5MB 7.6MB/s eta 0:00:01\r\u001b[K     |██████████████████████████████▋ | 1.5MB 7.6MB/s eta 0:00:01\r\u001b[K     |██████████████████████████████▉ | 1.5MB 7.6MB/s eta 0:00:01\r\u001b[K     |███████████████████████████████ | 1.5MB 7.6MB/s eta 0:00:01\r\u001b[K     |███████████████████████████████▎| 1.5MB 7.6MB/s eta 0:00:01\r\u001b[K     |███████████████████████████████▌| 1.5MB 7.6MB/s eta 0:00:01\r\u001b[K     |███████████████████████████████▋| 1.6MB 7.6MB/s eta 0:00:01\r\u001b[K     |███████████████████████████████▉| 1.6MB 7.6MB/s eta 0:00:01\r\u001b[K     |████████████████████████████████| 1.6MB 7.6MB/s \n",
            "\u001b[?25hRequirement already satisfied, skipping upgrade: scipy in /usr/local/lib/python3.7/dist-packages (from gym) (1.4.1)\n",
            "Requirement already satisfied, skipping upgrade: numpy>=1.10.4 in /usr/local/lib/python3.7/dist-packages (from gym) (1.19.5)\n",
            "Requirement already satisfied, skipping upgrade: pyglet<=1.5.0,>=1.4.0 in /usr/local/lib/python3.7/dist-packages (from gym) (1.5.0)\n",
            "Requirement already satisfied, skipping upgrade: Pillow<=7.2.0 in /usr/local/lib/python3.7/dist-packages (from gym) (7.1.2)\n",
            "Requirement already satisfied, skipping upgrade: cloudpickle<1.7.0,>=1.2.0 in /usr/local/lib/python3.7/dist-packages (from gym) (1.3.0)\n",
            "Requirement already satisfied, skipping upgrade: future in /usr/local/lib/python3.7/dist-packages (from pyglet<=1.5.0,>=1.4.0->gym) (0.16.0)\n",
            "Building wheels for collected packages: gym\n",
            "  Building wheel for gym (setup.py) ... \u001b[?25l\u001b[?25hdone\n",
            "  Created wheel for gym: filename=gym-0.18.0-cp37-none-any.whl size=1656449 sha256=25435d196d75cfcdfd199f9964c88bc4b48afcd6af67f7d4d14afdfe0f75dc15\n",
            "  Stored in directory: /root/.cache/pip/wheels/be/85/3b/480b828a4a697b37392740a040b8989f729d952b4e441a1877\n",
            "Successfully built gym\n",
            "Installing collected packages: gym\n",
            "  Found existing installation: gym 0.17.3\n",
            "    Uninstalling gym-0.17.3:\n",
            "      Successfully uninstalled gym-0.17.3\n",
            "Successfully installed gym-0.18.0\n"
          ],
          "name": "stdout"
        }
      ]
    },
    {
      "cell_type": "markdown",
      "metadata": {
        "id": "rsezxQc6Cw2q"
      },
      "source": [
        "### Import biblioteci"
      ]
    },
    {
      "cell_type": "code",
      "metadata": {
        "id": "iRBWl2gNCz0s"
      },
      "source": [
        "import gym\n",
        "import seaborn as sns\n",
        "import numpy as np\n",
        "\n",
        "# Set seaborn plotting type\n",
        "sns.set()\n",
        "\n",
        "\n",
        "import random\n",
        "import time\n",
        "from IPython.display import clear_output"
      ],
      "execution_count": 2,
      "outputs": []
    },
    {
      "cell_type": "markdown",
      "metadata": {
        "id": "koOr44nVC2W8"
      },
      "source": [
        "### Setup Environment pentru Taxi"
      ]
    },
    {
      "cell_type": "code",
      "metadata": {
        "id": "6QqIehW-C6jt"
      },
      "source": [
        "env = gym.make('Taxi-v3')"
      ],
      "execution_count": 3,
      "outputs": []
    },
    {
      "cell_type": "markdown",
      "metadata": {
        "id": "hIrkE5md-DwS"
      },
      "source": [
        "### Parametrii"
      ]
    },
    {
      "cell_type": "code",
      "metadata": {
        "id": "Eq_2kBEe-I-s"
      },
      "source": [
        "LOG_INTERVAL = 100 #@param {type: \"slider\", min: 0, max: 1000, step: 10}\n",
        "NR_EPISODES = 6500 #@param {type: \"slider\", min: 5, max: 10000, step: 5}\n",
        "\n"
      ],
      "execution_count": 30,
      "outputs": []
    },
    {
      "cell_type": "markdown",
      "metadata": {
        "id": "m7CBF_u4Ifxf"
      },
      "source": [
        "### Hyperparametrii"
      ]
    },
    {
      "cell_type": "code",
      "metadata": {
        "id": "w5soyOMbIg-I"
      },
      "source": [
        "ALPHA = 0.8 #@param {type: \"slider\", min: 0.0, max: 1.0, step: 0.1}\n",
        "GAMMA = 0.4 #@param {type: \"slider\", min: 0.0, max: 1.0, step: 0.1}\n",
        "EPSILON = 0.5 #@param {type: \"slider\", min: 0.0, max: 1.0, step: 0.1}\n",
        "\n",
        "# For BONUS\n",
        "\n",
        "DECAY_EPS = 0.75 #@param {type: \"slider\", min: 0.0, max: 1.0, step: 0.05}\n",
        "DECAY_EPS_EPISODES = 100 #@param {type: \"slider\", min: 0, max: 10000, step: 5}"
      ],
      "execution_count": 31,
      "outputs": []
    },
    {
      "cell_type": "markdown",
      "metadata": {
        "id": "UR10YUe9BXKn"
      },
      "source": [
        "## 4 Problemă de rezolvat"
      ]
    },
    {
      "cell_type": "markdown",
      "metadata": {
        "id": "i2jAK1qtDooZ"
      },
      "source": [
        "Dorim să implementăm un bot care utilizează Q-Learning sau Sarsa pentru a realiza un task simplu - transportarea unei persoane de la o poziție la alta.\n",
        "\n",
        "De asemenea, dorim să observăm ce se întamplă când modifăm diferiți parametrii ai sistemului:\n",
        " - dăm un reward mai mic/mare pentru mișcări inutile\n",
        " - scoatem anumite informații din stare\n"
      ]
    },
    {
      "cell_type": "markdown",
      "metadata": {
        "id": "jMZ4u0XLKKJ0"
      },
      "source": [
        "### Choose action (5p)"
      ]
    },
    {
      "cell_type": "markdown",
      "metadata": {
        "id": "vlwih38w3z4T"
      },
      "source": [
        "Funcția `choose_action` are ca parametrii:\n",
        "- `Q` - tabela de stări-acțiuni/tabelă de utilităti (aceasta se va modifica în pasul de antrenare),\n",
        "- `state` - starea curentă în care se află jucătorul (în cazul nostru șoferul)\n",
        "- `eps` - probabilitatea cu care se va alege o mutare random, are rolul de a controla tradeoff-ul dintre *Explorare* și *Exploatare* \n",
        "\n",
        "Funcția `choose_action` trebuie să intoarcă o acțiune random cu probabilitate `eps`, altfel acțiunea care maximizează utilitatea din starea curentă."
      ]
    },
    {
      "cell_type": "code",
      "metadata": {
        "id": "vmImyaTvKKo-"
      },
      "source": [
        "def choose_action(Q: np.array, state: int, eps: float = 0.0) -> int:\n",
        "    # TODO: Select an action\n",
        "    action = 0\n",
        "    if np.random.uniform(0, 1) < eps:\n",
        "        action = env.action_space.sample()\n",
        "    else:\n",
        "        action = np.argmax(Q[state, :])\n",
        "    return action"
      ],
      "execution_count": 32,
      "outputs": []
    },
    {
      "cell_type": "markdown",
      "metadata": {
        "id": "uvilu_zqD4LI"
      },
      "source": [
        "### 4.1 Q-Learning (25p)"
      ]
    },
    {
      "cell_type": "markdown",
      "metadata": {
        "id": "uzpZ49jb9K2b"
      },
      "source": [
        "Implementați algoritmul Q-Learning.\n",
        "\n",
        "Formula de update pentru `Q` este:\n",
        "$$\n",
        "  Q[s_t, a] = Q[s_t, a] + \\alpha(R + \\gamma \\max_{a}Q[s_{t+1}, a] - Q[s_t, a])\n",
        "$$\n",
        "\n",
        "Unde:\n",
        "- `s_t` - starea la momentul `t`\n",
        "- `a` - acțiunea aleasă la momentul `t`\n",
        "- $\\alpha$, $\\gamma$ - parametru setat înainte de rulare\n",
        "- `s_{t+1}` - starea la momentul `t+1`, după ce s-a efectua acțiunea `a`"
      ]
    },
    {
      "cell_type": "markdown",
      "metadata": {
        "id": "vuQAPbb4EvCC"
      },
      "source": [
        "#### Train"
      ]
    },
    {
      "cell_type": "code",
      "metadata": {
        "id": "HfoLA8WSE26f",
        "colab": {
          "base_uri": "https://localhost:8080/"
        },
        "outputId": "4ca3c5c4-89e9-4eb5-97c4-27f431d21518"
      },
      "source": [
        "REWARDS = []\n",
        "eps = EPSILON\n",
        "\n",
        "# Table used to keep the utilities for state-action\n",
        "Q = np.zeros((env.observation_space.n, env.action_space.n))\n",
        "\n",
        "env.seed(42)\n",
        "\n",
        "\n",
        "for i in range(1, NR_EPISODES + 1):\n",
        "    state = env.reset()\n",
        "    has_ended = False\n",
        "    total_reward = 0\n",
        "\n",
        "    while not has_ended:\n",
        "        # TODO: Get the action\n",
        "        action = choose_action(Q,state,eps)\n",
        "\n",
        "        # Do the action\n",
        "        next_state, reward, has_ended, _ = env.step(action)\n",
        "\n",
        "        # Cumulate the reward for plotting\n",
        "        total_reward += reward\n",
        "\n",
        "        # TODO: Update the Q(state, action) with the new value\n",
        "        Q[state][action] = (1 - ALPHA) * Q[state][action] + ALPHA*(reward + GAMMA * np.max(Q[state]))\n",
        "\n",
        "        # TODO: Go to the new state\n",
        "        state ,reward,has_ended,_= env.step(action)\n",
        "\n",
        "    if i % LOG_INTERVAL == 0:\n",
        "        REWARDS.append(total_reward)\n",
        "        print(f\"Episode: {i}\")\n",
        "\n",
        "    # TODO (BONUS): Decay eps for every DECAY_EPS_EPISODES\n",
        "    # Use DECAY_EPS\n",
        "\n",
        "# Save the results for plotting\n",
        "Q_1 = Q\n",
        "print(\"Training Q-Learning finished.\\n\")"
      ],
      "execution_count": 33,
      "outputs": [
        {
          "output_type": "stream",
          "text": [
            "Episode: 100\n",
            "Episode: 200\n",
            "Episode: 300\n",
            "Episode: 400\n",
            "Episode: 500\n",
            "Episode: 600\n",
            "Episode: 700\n",
            "Episode: 800\n",
            "Episode: 900\n",
            "Episode: 1000\n",
            "Episode: 1100\n",
            "Episode: 1200\n",
            "Episode: 1300\n",
            "Episode: 1400\n",
            "Episode: 1500\n",
            "Episode: 1600\n",
            "Episode: 1700\n",
            "Episode: 1800\n",
            "Episode: 1900\n",
            "Episode: 2000\n",
            "Episode: 2100\n",
            "Episode: 2200\n",
            "Episode: 2300\n",
            "Episode: 2400\n",
            "Episode: 2500\n",
            "Episode: 2600\n",
            "Episode: 2700\n",
            "Episode: 2800\n",
            "Episode: 2900\n",
            "Episode: 3000\n",
            "Episode: 3100\n",
            "Episode: 3200\n",
            "Episode: 3300\n",
            "Episode: 3400\n",
            "Episode: 3500\n",
            "Episode: 3600\n",
            "Episode: 3700\n",
            "Episode: 3800\n",
            "Episode: 3900\n",
            "Episode: 4000\n",
            "Episode: 4100\n",
            "Episode: 4200\n",
            "Episode: 4300\n",
            "Episode: 4400\n",
            "Episode: 4500\n",
            "Episode: 4600\n",
            "Episode: 4700\n",
            "Episode: 4800\n",
            "Episode: 4900\n",
            "Episode: 5000\n",
            "Episode: 5100\n",
            "Episode: 5200\n",
            "Episode: 5300\n",
            "Episode: 5400\n",
            "Episode: 5500\n",
            "Episode: 5600\n",
            "Episode: 5700\n",
            "Episode: 5800\n",
            "Episode: 5900\n",
            "Episode: 6000\n",
            "Episode: 6100\n",
            "Episode: 6200\n",
            "Episode: 6300\n",
            "Episode: 6400\n",
            "Episode: 6500\n",
            "Training Q-Learning finished.\n",
            "\n"
          ],
          "name": "stdout"
        }
      ]
    },
    {
      "cell_type": "markdown",
      "metadata": {
        "id": "Ya53mUXoyMki"
      },
      "source": [
        "#### Let's check the driver"
      ]
    },
    {
      "cell_type": "code",
      "metadata": {
        "id": "as7iNa86yQGL",
        "colab": {
          "base_uri": "https://localhost:8080/"
        },
        "outputId": "9534d566-d4c0-43a0-b01e-7c5e103789c1"
      },
      "source": [
        "state = env.reset()\n",
        "has_ended = False\n",
        "\n",
        "while not has_ended:\n",
        "    # TODO: Take always the best action\n",
        "    action = np.argmax(Q[state])\n",
        "    state, reward, has_ended, _ = env.step(action)\n",
        "    time.sleep(0.75)\n",
        "    env.render()\n",
        "    print(f\"Reward {reward}\")\n",
        "    clear_output(wait=True)"
      ],
      "execution_count": 34,
      "outputs": [
        {
          "output_type": "stream",
          "text": [
            "+---------+\n",
            "|\u001b[35mR\u001b[0m: | : :G|\n",
            "| : | : : |\n",
            "| : : : : |\n",
            "| | :\u001b[43m \u001b[0m| : |\n",
            "|\u001b[34;1mY\u001b[0m| : |B: |\n",
            "+---------+\n",
            "  (East)\n",
            "Reward -1\n"
          ],
          "name": "stdout"
        }
      ]
    },
    {
      "cell_type": "markdown",
      "metadata": {
        "id": "IG0vWU5W2y3L"
      },
      "source": [
        "### And the rewards"
      ]
    },
    {
      "cell_type": "code",
      "metadata": {
        "id": "kfW3gEtA23cY",
        "colab": {
          "base_uri": "https://localhost:8080/",
          "height": 302
        },
        "outputId": "77f4daab-8077-4c2e-cef2-3f083bdb5577"
      },
      "source": [
        "x_points = np.arange(LOG_INTERVAL, NR_EPISODES + 1, LOG_INTERVAL)\n",
        "y_points = REWARDS\n",
        "\n",
        "plt = sns.lineplot(x=x_points, y=y_points)\n",
        "plt.set(xlabel=\"# episodes\", ylabel=\"reward\")"
      ],
      "execution_count": 35,
      "outputs": [
        {
          "output_type": "execute_result",
          "data": {
            "text/plain": [
              "[Text(0, 0.5, 'reward'), Text(0.5, 0, '# episodes')]"
            ]
          },
          "metadata": {
            "tags": []
          },
          "execution_count": 35
        },
        {
          "output_type": "display_data",
          "data": {
            "image/png": "[encoded data removed]",
            "text/plain": [
              "<Figure size 432x288 with 1 Axes>"
            ]
          },
          "metadata": {
            "tags": []
          }
        }
      ]
    },
    {
      "cell_type": "markdown",
      "metadata": {
        "id": "twNZkA1ID7HC"
      },
      "source": [
        "### 4.2 SARSA (25p)"
      ]
    },
    {
      "cell_type": "markdown",
      "metadata": {
        "id": "ADPJMq4Z_0f-"
      },
      "source": [
        "Implementați algoritmul SARSA.\n",
        "\n",
        "Formula de update pentru `Q` este:\n",
        "$$\n",
        "  Q[s_t, a] = Q[s_t, a] + \\alpha(R + \\gamma Q[s_{t+1}, a'] - Q[s_t, a])\n",
        "$$\n",
        "\n",
        "Unde:\n",
        "- $s_t$ - starea la momentul `t`\n",
        "- **a** - acțiunea aleasă la momentul `t`\n",
        "- **a'** - acțiunea aleasă la momentul `t+1`, presupunând ca suntem în starea $s_{t+1}$\n",
        "- $\\alpha$, $\\gamma$ - parametru setat înainte de rulare\n",
        "- $s_{t+1}$ - starea la momentul `t+1`, după ce s-a efectua acțiunea `a`"
      ]
    },
    {
      "cell_type": "markdown",
      "metadata": {
        "id": "afpcVDWGJpvE"
      },
      "source": [
        "### Train"
      ]
    },
    {
      "cell_type": "code",
      "metadata": {
        "id": "ufning8fJrUI",
        "colab": {
          "base_uri": "https://localhost:8080/"
        },
        "outputId": "73e5e1d7-3e03-4998-9c2e-39989fd73b2a"
      },
      "source": [
        "REWARDS = []\n",
        "eps = EPSILON\n",
        "\n",
        "Q = np.zeros((env.observation_space.n, env.action_space.n))\n",
        "\n",
        "env.seed(42)\n",
        "\n",
        "\n",
        "for i in range(1, NR_EPISODES + 1):\n",
        "    state = env.reset()\n",
        "    has_ended = False\n",
        "    total_reward = 0\n",
        "\n",
        "    # TODO: Get the action\n",
        "    action = choose_action(Q,state,eps) \n",
        "\n",
        "    while not has_ended:\n",
        "        # Do the action\n",
        "        next_state, reward, has_ended, _ = env.step(action)\n",
        "\n",
        "        # TODO: Get the next_action from the next_state\n",
        "        next_action = choose_action(Q,next_state,eps)\n",
        "\n",
        "        # Cumulate the reward for plotting\n",
        "        total_reward += reward\n",
        "\n",
        "        # TODO: Update the Q(state, action) with the new value\n",
        "        Q[state, action] = Q[state, action] + ALPHA * (reward + GAMMA * Q[next_state, next_action] - Q[state, action])\n",
        "\n",
        "        # TODO: Go to the new state\n",
        "        state,reward,has_ended, _ = env.step(next_action)\n",
        "\n",
        "        # TODO: Update the action\n",
        "        action = next_action\n",
        "\n",
        "\n",
        "    if i % LOG_INTERVAL == 0:\n",
        "        REWARDS.append(total_reward)\n",
        "        print(f\"Episode: {i}\")\n",
        "\n",
        "    # TODO (BONUS): Decay eps for every DECAY_EPS_EPISODES\n",
        "    # Use DECAY_EPS\n",
        "\n",
        "\n",
        "# Save for plotting\n",
        "\n",
        "Q_2 = Q\n",
        "print(\"Training SARSA finished.\\n\")"
      ],
      "execution_count": 39,
      "outputs": [
        {
          "output_type": "stream",
          "text": [
            "Episode: 100\n",
            "Episode: 200\n",
            "Episode: 300\n",
            "Episode: 400\n",
            "Episode: 500\n",
            "Episode: 600\n",
            "Episode: 700\n",
            "Episode: 800\n",
            "Episode: 900\n",
            "Episode: 1000\n",
            "Episode: 1100\n",
            "Episode: 1200\n",
            "Episode: 1300\n",
            "Episode: 1400\n",
            "Episode: 1500\n",
            "Episode: 1600\n",
            "Episode: 1700\n",
            "Episode: 1800\n",
            "Episode: 1900\n",
            "Episode: 2000\n",
            "Episode: 2100\n",
            "Episode: 2200\n",
            "Episode: 2300\n",
            "Episode: 2400\n",
            "Episode: 2500\n",
            "Episode: 2600\n",
            "Episode: 2700\n",
            "Episode: 2800\n",
            "Episode: 2900\n",
            "Episode: 3000\n",
            "Episode: 3100\n",
            "Episode: 3200\n",
            "Episode: 3300\n",
            "Episode: 3400\n",
            "Episode: 3500\n",
            "Episode: 3600\n",
            "Episode: 3700\n",
            "Episode: 3800\n",
            "Episode: 3900\n",
            "Episode: 4000\n",
            "Episode: 4100\n",
            "Episode: 4200\n",
            "Episode: 4300\n",
            "Episode: 4400\n",
            "Episode: 4500\n",
            "Episode: 4600\n",
            "Episode: 4700\n",
            "Episode: 4800\n",
            "Episode: 4900\n",
            "Episode: 5000\n",
            "Episode: 5100\n",
            "Episode: 5200\n",
            "Episode: 5300\n",
            "Episode: 5400\n",
            "Episode: 5500\n",
            "Episode: 5600\n",
            "Episode: 5700\n",
            "Episode: 5800\n",
            "Episode: 5900\n",
            "Episode: 6000\n",
            "Episode: 6100\n",
            "Episode: 6200\n",
            "Episode: 6300\n",
            "Episode: 6400\n",
            "Episode: 6500\n",
            "Training SARSA finished.\n",
            "\n"
          ],
          "name": "stdout"
        }
      ]
    },
    {
      "cell_type": "markdown",
      "metadata": {
        "id": "ZmxRA5T9LN96"
      },
      "source": [
        "#### Let's check the driver"
      ]
    },
    {
      "cell_type": "code",
      "metadata": {
        "id": "0rOjAgJOLQ8Z",
        "colab": {
          "base_uri": "https://localhost:8080/"
        },
        "outputId": "dd4affb3-5204-45a4-f631-b6b0611719d3"
      },
      "source": [
        "state = env.reset()\n",
        "has_ended = False\n",
        "\n",
        "while not has_ended:\n",
        "    # TODO: Take always the best action\n",
        "    action = choose_action(Q,next_state,eps)\n",
        "    state, reward, has_ended, _ = env.step(action)\n",
        "    time.sleep(0.75)\n",
        "    env.render()\n",
        "    print(f\"Reward {reward}\")\n",
        "    clear_output(wait=True)"
      ],
      "execution_count": 37,
      "outputs": [
        {
          "output_type": "stream",
          "text": [
            "+---------+\n",
            "|\u001b[43mR\u001b[0m: | : :\u001b[35mG\u001b[0m|\n",
            "| : | : : |\n",
            "| : : : : |\n",
            "| | : | : |\n",
            "|Y| : |\u001b[34;1mB\u001b[0m: |\n",
            "+---------+\n",
            "  (North)\n",
            "Reward -1\n"
          ],
          "name": "stdout"
        }
      ]
    },
    {
      "cell_type": "markdown",
      "metadata": {
        "id": "Yx3EMZteLTeZ"
      },
      "source": [
        "#### And the rewards"
      ]
    },
    {
      "cell_type": "code",
      "metadata": {
        "id": "tKM9oRJHLU0m",
        "colab": {
          "base_uri": "https://localhost:8080/",
          "height": 302
        },
        "outputId": "83e9ae09-2f62-4351-fd61-18db050ed7f1"
      },
      "source": [
        "x_points = np.arange(LOG_INTERVAL, NR_EPISODES + 1, LOG_INTERVAL)\n",
        "y_points = REWARDS\n",
        "\n",
        "plt = sns.lineplot(x=x_points, y=y_points)\n",
        "plt.set(xlabel=\"# episodes\", ylabel=\"reward\")"
      ],
      "execution_count": 38,
      "outputs": [
        {
          "output_type": "execute_result",
          "data": {
            "text/plain": [
              "[Text(0, 0.5, 'reward'), Text(0.5, 0, '# episodes')]"
            ]
          },
          "metadata": {
            "tags": []
          },
          "execution_count": 38
        },
        {
          "output_type": "display_data",
          "data": {
            "image/png": "[encoded data removed]",
            "text/plain": [
              "<Figure size 432x288 with 1 Axes>"
            ]
          },
          "metadata": {
            "tags": []
          }
        }
      ]
    },
    {
      "cell_type": "markdown",
      "metadata": {
        "id": "XYMRn_T6D0sp"
      },
      "source": [
        "### 4.3 Results (35p)\n"
      ]
    },
    {
      "cell_type": "markdown",
      "metadata": {
        "id": "lsPDimBcMAzc"
      },
      "source": [
        "\n",
        "Modificați parametrii algoritmilor (cele de la începutul Notebook-ului), faceți grafice pentru fiecare caz și explicați rezultatele obținute.\n",
        "\n",
        "Unii (și nu numai) dintre paramatrii pe care îi puteți modifica:\n",
        "- numărul de episoade de antrenare\n",
        "- `eps` mai mic/mare\n",
        "- valoarea lui $\\gamma$\n",
        "- valoarea lui $\\alpha$\n"
      ]
    },
    {
      "cell_type": "markdown",
      "metadata": {
        "id": "iPC3_zM6L6xb"
      },
      "source": [
        "#### 4.4 And something more... (10p)"
      ]
    },
    {
      "cell_type": "markdown",
      "metadata": {
        "id": "GLV1t6tmL-qc"
      },
      "source": [
        "##### A simple move (5p)"
      ]
    },
    {
      "cell_type": "markdown",
      "metadata": {
        "id": "4hpaILBTPHGR"
      },
      "source": [
        "\n",
        "Dorim să vedem importanța reward-ului și a stării.\n",
        "\n",
        "Modificați celula de antrenare pentru una dintre metode astfel încât reward-ul pentru o **mutare simplă** să fie 0, (acum este -1). Refaceți graficul metodei alese și trageți concluziile.\n"
      ]
    },
    {
      "cell_type": "markdown",
      "metadata": {
        "id": "lWnABGc9PLNN"
      },
      "source": [
        "##### A little less space (5p)"
      ]
    },
    {
      "cell_type": "markdown",
      "metadata": {
        "id": "OK4DvqjEO2uz"
      },
      "source": [
        "**Starea** are valori discrete (500 de valori posibile), iar aceasta este encodată folosind metoda d [aici](https://github.com/openai/gym/blob/master/gym/envs/toy_text/taxi.py#L128).\n",
        "\n",
        "Rescrieți codul astfel încât starea să fie encodată folosind:\n",
        "$$\n",
        "(((taxi\\_row * 5) + taxi\\_column) * 5 + pass\\_loc) * 2 + destination\n",
        "$$\n",
        "Antrenați unul dintre algoritmi, faceți graficul și explicați rezultatul.\n",
        "\n",
        "**Atenție!** Trebuie să și modificați cum arată Q (forma matricei).\n",
        "\n",
        "Hint: Decodarea stării este [aici](https://github.com/openai/gym/blob/master/gym/envs/toy_text/taxi.py#L139)\n"
      ]
    },
    {
      "cell_type": "markdown",
      "metadata": {
        "id": "B9FzqwzeGAi3"
      },
      "source": [
        "## 5 BONUS: Some decay on the way (10p)"
      ]
    },
    {
      "cell_type": "markdown",
      "metadata": {
        "id": "zEeZGRXBGSLn"
      },
      "source": [
        "Analizați ce se întâmplă daca scadeți treptat `eps`, pe măsura antrenării. \n",
        "\n",
        "Intuitiv, dorim ca la începutul antrenării agentul să **exploreze** cât mai mult posibil și să atingă un număr mare de stări (în exemplul nostru cu taxiul, nu avem așa multe stări, dar sunt jocuri în care spațiul stărilor poate fi mai mare).\n",
        "\n",
        "De asemenea, pe măsură ce continuăm antrenarea, dorim ca taximetristul să înceapă să **exploateze** mai mult stările cunoscute cu o utilitate mare.\n",
        "\n"
      ]
    }
  ]
}